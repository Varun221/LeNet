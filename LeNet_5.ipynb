{
  "nbformat": 4,
  "nbformat_minor": 0,
  "metadata": {
    "colab": {
      "name": "LeNet-5.ipynb",
      "provenance": [],
      "authorship_tag": "ABX9TyOpMadUOYj5x6YBwo5s8k0i",
      "include_colab_link": true
    },
    "kernelspec": {
      "name": "python3",
      "display_name": "Python 3"
    },
    "accelerator": "GPU"
  },
  "cells": [
    {
      "cell_type": "markdown",
      "metadata": {
        "id": "view-in-github",
        "colab_type": "text"
      },
      "source": [
        "<a href=\"https://colab.research.google.com/github/Varun221/LeNet/blob/master/LeNet_5.ipynb\" target=\"_parent\"><img src=\"https://colab.research.google.com/assets/colab-badge.svg\" alt=\"Open In Colab\"/></a>"
      ]
    },
    {
      "cell_type": "markdown",
      "metadata": {
        "id": "PxLFE3JJzHrI",
        "colab_type": "text"
      },
      "source": [
        "# **LeNet-5**\n",
        "This is an implementation of LeNet 5 described in the Research paper - 'GRADIENT BASED LEARNING APPLIED TO DOCUMENT RECOGNITION' By Yann LeCunn et al. \\\n",
        "\n",
        "The architecture of the network is described in the image below.\n",
        "\n",
        "![alt text](https://drive.google.com/uc?export=view&id=16CQ1IskrfIqqN-277w3G5X_l1B8mN-1S)\n",
        "\n",
        "It consists of 5 Convolutional Layers, A Fully Connected Layer and finally an output layer for 10 classes. In The image Cx represents a convolutional layer, Sx represents a Subsampling layer and Fx represents a Fully Connected layer where x is the layer index. Further explanation will be given as we will implement the network.\n"
      ]
    },
    {
      "cell_type": "markdown",
      "metadata": {
        "id": "opbLbuFhe23p",
        "colab_type": "text"
      },
      "source": [
        "IMPORTING THE LIBRARIES \\\n",
        "We will be using Tensorflow 2.0 and the integrated Keras API to implement our network. We will use MNIST dataset to train and test our network. Tensorflow provides many datasets including MNIST which can be loaded using tensorflow_dataset module"
      ]
    },
    {
      "cell_type": "code",
      "metadata": {
        "id": "6dOr6l6qzMCJ",
        "colab_type": "code",
        "colab": {}
      },
      "source": [
        "%tensorflow_version 2.x\n",
        "import tensorflow as tf\n",
        "from tensorflow import keras\n",
        "import numpy as np\n",
        "import matplotlib.pyplot as plt\n",
        "import tensorflow_datasets as tfds"
      ],
      "execution_count": 57,
      "outputs": []
    },
    {
      "cell_type": "markdown",
      "metadata": {
        "id": "I48w9AiKfVDz",
        "colab_type": "text"
      },
      "source": [
        "The MNIST Dataset is already split into Train and Test sets.\n",
        "The size of the images used in the Paper is (32,32,1) but the size is immaterial for a Neural Network as long as all the images are of same size. Although Bigger images allow more features to be extracted, for all testing and practical purposes the MNIST dataset of (28,28,1) images will suffice."
      ]
    },
    {
      "cell_type": "code",
      "metadata": {
        "id": "gqArIn0Czh6O",
        "colab_type": "code",
        "colab": {
          "base_uri": "https://localhost:8080/",
          "height": 34
        },
        "outputId": "0e5fc638-41f4-41ca-de7a-9af51cc1cf7b"
      },
      "source": [
        " # Loading the mnist dataset\n",
        " train, test = tfds.as_numpy(tfds.load(\n",
        "    'mnist',\n",
        "    split=['train','test'], \n",
        "    batch_size=-1, \n",
        "    as_supervised=True,\n",
        "))\n",
        "trainX, trainY = train[0], train[1]\n",
        "testX, testY = test[0], test[1]\n",
        "print(trainX.shape, trainY.shape, testX.shape, testY.shape)"
      ],
      "execution_count": 58,
      "outputs": [
        {
          "output_type": "stream",
          "text": [
            "(60000, 28, 28, 1) (60000,) (10000, 28, 28, 1) (10000,)\n"
          ],
          "name": "stdout"
        }
      ]
    },
    {
      "cell_type": "markdown",
      "metadata": {
        "id": "X6PO4k3eg5zq",
        "colab_type": "text"
      },
      "source": [
        "Next We will write a function to show some of the training examples from the training set. "
      ]
    },
    {
      "cell_type": "code",
      "metadata": {
        "id": "Mn5JqdVx0k_e",
        "colab_type": "code",
        "colab": {
          "base_uri": "https://localhost:8080/",
          "height": 282
        },
        "outputId": "546b379f-dc2b-4a93-e71f-baf51e428ca6"
      },
      "source": [
        "# To check out training images\n",
        "def show_num(index):\n",
        "  img_arr = trainX[index, :, :, :]\n",
        "  to_show = np.squeeze(img_arr) # As plt.imshow works with only 2D arrays we convert (28,28,1) => (28,28)\n",
        "  print(f\"This is {trainY[index]}\")\n",
        "  plt.imshow(to_show, cmap='Greys')\n",
        "  plt.show()\n",
        "show_num(5)\n",
        "# feel free to change the index "
      ],
      "execution_count": 59,
      "outputs": [
        {
          "output_type": "stream",
          "text": [
            "This is 1\n"
          ],
          "name": "stdout"
        },
        {
          "output_type": "display_data",
          "data": {
            "image/png": "[encoded data removed]",
            "text/plain": [
              "<Figure size 432x288 with 1 Axes>"
            ]
          },
          "metadata": {
            "tags": [],
            "needs_background": "light"
          }
        }
      ]
    },
    {
      "cell_type": "markdown",
      "metadata": {
        "id": "Xet_Qfn_hYy3",
        "colab_type": "text"
      },
      "source": [
        "Now we will start building the model. \\\n",
        "First we will import all the Necessary functions required to build the network. The role of these functions will be explained as we use them. \\\n",
        "We will be using keras Sequential class to define the model."
      ]
    },
    {
      "cell_type": "code",
      "metadata": {
        "id": "HerbQR4V2Iqn",
        "colab_type": "code",
        "colab": {}
      },
      "source": [
        "from tensorflow.keras.layers import Conv2D, Dense, Flatten, Dropout\n",
        "model = tf.keras.Sequential()\n"
      ],
      "execution_count": 60,
      "outputs": []
    },
    {
      "cell_type": "markdown",
      "metadata": {
        "id": "nI2cI-Ach2og",
        "colab_type": "text"
      },
      "source": [
        "## **LETS START BUILDING THE NETWORK!!**\n",
        "The first Layer C1 is a Convolutional layer with 6 filters and a kernel size of (5,5). The layer takes an input of size (28, 28, 1) as we will be passing a Batch of inputs of size of (28,28,1). \\\n",
        "The LeNet uses sigmoid/tanh function in place of relu which is more popular today. We will be using relu here. \\\n",
        "We will use padding to ensure that the output image size will be (28,28). \\\n",
        "The input image (28,28,1) will become (28,28,6) in the output.\n"
      ]
    },
    {
      "cell_type": "code",
      "metadata": {
        "id": "MCttJwfW2k4s",
        "colab_type": "code",
        "colab": {}
      },
      "source": [
        "model.add(Conv2D(6, kernel_size=(5,5), input_shape = (28,28,1), activation='relu', padding='same', name=\"C1\"))"
      ],
      "execution_count": 61,
      "outputs": []
    },
    {
      "cell_type": "markdown",
      "metadata": {
        "id": "ceVbK7Iwj-zS",
        "colab_type": "text"
      },
      "source": [
        "The Next Layer S2 is a Subsampling layer, Here's how it is described in the paper - \\\n",
        "We use a 2x2 kernel with a stride of 2 i.e. the contigous units are non overlapping. Each unit computes the average of its four inputs, multiplies it by trainable coefficient, adds a trainable bias and passes the result through a sigmoid function.  \n",
        "\n",
        "Here's how we will modify it. We will be using the same (2x2) kernel with a stride of 2 but we will multiply each unit in (2x2) area with a trainable coefficient (As we do normally). This will increase the no. of trainable parameters and hence accuracy in general. \\\n",
        "\n",
        "Keep in mind that we can create the exact layers as described above by defining our custom layer class. For more information about that refer to [this](https://www.tensorflow.org/guide/keras/custom_layers_and_models) link.\n",
        "\n",
        "Also we will be using relu function in place of sigmoid. \\\n",
        "The input image (28,28,6) will become (14,14,6) in the output.\n",
        "\n"
      ]
    },
    {
      "cell_type": "code",
      "metadata": {
        "id": "9M2fSjb7jt6X",
        "colab_type": "code",
        "colab": {}
      },
      "source": [
        "model.add(Conv2D(6, (2,2), strides=2, name=\"S2\", activation='relu'))"
      ],
      "execution_count": 62,
      "outputs": []
    },
    {
      "cell_type": "markdown",
      "metadata": {
        "id": "5HbVSL_Gnfbm",
        "colab_type": "text"
      },
      "source": [
        "The Next Layer C3 is a convolutional layer with 16 feature maps with (5x5) Kernel. The difference here is that, The 5x5 kernel is not used in all the locations.\n",
        "\n",
        " Here's an image from the paper - \\\n",
        "\n",
        "![alt text](https://drive.google.com/uc?export=view&id=1neBf72DfWASx9wfYqQhMK3tT-bOrk0Jf)\n",
        "\n",
        "Now, We can do the same by defining a custom layer using [this](https://www.tensorflow.org/guide/keras/custom_layers_and_models) link, but we can do something even better. We can randomly switch some input off i.e. set them to zero by using Dropout class. Due to the random nature of the function the effect is not localized and the model performs better on unseen images.\n",
        "The Switching off (random or specific) ensures that different feature maps are forced to extract different features because they get different inputs.\n",
        "\n",
        "This is the change induced by the layer - \\\n",
        "(14,14,6) => (10,10,16)\n",
        "\n"
      ]
    },
    {
      "cell_type": "code",
      "metadata": {
        "id": "p-3ywYGLotvf",
        "colab_type": "code",
        "colab": {}
      },
      "source": [
        "# the dropout rate is a hyper parameter which can be tuned.\n",
        "model.add(Dropout(0.6))\n",
        "model.add(Conv2D(16, (5,5), activation='relu', name='C3'))"
      ],
      "execution_count": 63,
      "outputs": []
    },
    {
      "cell_type": "markdown",
      "metadata": {
        "id": "O3BPRRB9qir7",
        "colab_type": "text"
      },
      "source": [
        "The Next layer S4 is connected to C3 similar to how S2 is connected to S1.\\\n",
        "16 filters of size (2,2) with stride of 2\n",
        "\n",
        "This is the change by the layer - \\\n",
        "(10,10,16) => (5,5,16)"
      ]
    },
    {
      "cell_type": "code",
      "metadata": {
        "id": "7utJURyeqq5Z",
        "colab_type": "code",
        "colab": {}
      },
      "source": [
        "model.add(Conv2D(16, (2,2), strides=2, activation='relu',name=\"S4\"))"
      ],
      "execution_count": 64,
      "outputs": []
    },
    {
      "cell_type": "markdown",
      "metadata": {
        "id": "5bH9nV5Br3MU",
        "colab_type": "text"
      },
      "source": [
        "The Next layer C5 is connected to S4 with 120 filters of 5x5 size. This will make the image of 1x1 size. We will Flatten the image to apply fully connected layer to it. \\\n",
        "(5,5,16) => (1,1,120) \n"
      ]
    },
    {
      "cell_type": "code",
      "metadata": {
        "id": "ydxb8TvirqvT",
        "colab_type": "code",
        "colab": {}
      },
      "source": [
        "model.add(Conv2D(120, (5,5), activation='relu', name=\"C5\"))\n",
        "model.add(Flatten())"
      ],
      "execution_count": 65,
      "outputs": []
    },
    {
      "cell_type": "markdown",
      "metadata": {
        "id": "OG5H0Sb2tYhI",
        "colab_type": "text"
      },
      "source": [
        "The next layer F6 uses a Densely connected layer of 84 units. \\\n",
        "Finally we will be using a softmax output of 10 classes. \\\n",
        "This is different from what is used in the paper. The paper uses Euclidean Radial Basis Function."
      ]
    },
    {
      "cell_type": "code",
      "metadata": {
        "id": "bN82F3potX1a",
        "colab_type": "code",
        "colab": {}
      },
      "source": [
        "model.add(Dense(84, activation='relu', name='F6'))\n",
        "model.add(Dense(10, activation='softmax', name='OUTPUT'))"
      ],
      "execution_count": 66,
      "outputs": []
    },
    {
      "cell_type": "markdown",
      "metadata": {
        "id": "WQ00A8QMuw6r",
        "colab_type": "text"
      },
      "source": [
        "#### WE BUILT THE MODEL!\n",
        "We can see a summary of the model we build using model.summary() function, lets check to see if out estimates of sizes were right."
      ]
    },
    {
      "cell_type": "code",
      "metadata": {
        "id": "NDlBPVeOuvPb",
        "colab_type": "code",
        "colab": {
          "base_uri": "https://localhost:8080/",
          "height": 459
        },
        "outputId": "01fcfe7d-a4c8-43f3-cefe-934d087dcced"
      },
      "source": [
        "model.summary()"
      ],
      "execution_count": 67,
      "outputs": [
        {
          "output_type": "stream",
          "text": [
            "Model: \"sequential_2\"\n",
            "_________________________________________________________________\n",
            "Layer (type)                 Output Shape              Param #   \n",
            "=================================================================\n",
            "C1 (Conv2D)                  (None, 28, 28, 6)         156       \n",
            "_________________________________________________________________\n",
            "S2 (Conv2D)                  (None, 14, 14, 6)         150       \n",
            "_________________________________________________________________\n",
            "dropout_2 (Dropout)          (None, 14, 14, 6)         0         \n",
            "_________________________________________________________________\n",
            "C3 (Conv2D)                  (None, 10, 10, 16)        2416      \n",
            "_________________________________________________________________\n",
            "S4 (Conv2D)                  (None, 5, 5, 16)          1040      \n",
            "_________________________________________________________________\n",
            "C5 (Conv2D)                  (None, 1, 1, 120)         48120     \n",
            "_________________________________________________________________\n",
            "flatten_2 (Flatten)          (None, 120)               0         \n",
            "_________________________________________________________________\n",
            "F6 (Dense)                   (None, 84)                10164     \n",
            "_________________________________________________________________\n",
            "OUTPUT (Dense)               (None, 10)                850       \n",
            "=================================================================\n",
            "Total params: 62,896\n",
            "Trainable params: 62,896\n",
            "Non-trainable params: 0\n",
            "_________________________________________________________________\n"
          ],
          "name": "stdout"
        }
      ]
    },
    {
      "cell_type": "markdown",
      "metadata": {
        "id": "Lw7pDk2avRQw",
        "colab_type": "text"
      },
      "source": [
        "As you can see above, Everything looks right! \\\n",
        "Our model has a total of 62,896 params which is quite more than 10,164 params mentioned in the paper. \\\n",
        "\n",
        "\n",
        "### TRAINING THE MODEL\n",
        "Let us compile the model. \\\n",
        "The paper uses mean squared error, Which is not generally suitable for multi-class classification, we will be using categorical_crossentropy instead. \\\n",
        "The optimizer we will be using is Adam with learning rate scheduler which decreases learning rate after every epoch. The paper mentions the learning rate schedule as follows:  \\\n",
        "0.0005 for the first two passes, 0.0002 for the next three, 0.0001 for the next three, 0.00005 for the next four and 0.00001 thereafter. \n",
        "\n",
        "Lets implement the same - "
      ]
    },
    {
      "cell_type": "code",
      "metadata": {
        "id": "Kdn5sNYgylkh",
        "colab_type": "code",
        "colab": {}
      },
      "source": [
        "from tensorflow.keras.callbacks import LearningRateScheduler\n",
        "\n",
        "def scheduler(epoch):\n",
        "  if epoch<=2:\n",
        "    return(0.0005)\n",
        "  elif (epoch>2 and epoch<=5):\n",
        "    return(0.0002)\n",
        "  elif (epoch>5 and epoch<=8):\n",
        "    return(0.0001)\n",
        "  elif (epoch>8 and epoch<=12):\n",
        "    return(0.00005)\n",
        "  else:\n",
        "    return(0.00001)\n",
        "\n",
        "\n",
        "def scheduler2(epoch):\n",
        "  if epoch < 10:\n",
        "    return 0.001\n",
        "  else:\n",
        "    return 0.001 * tf.math.exp(0.1 * (10 - epoch))\n",
        "\n",
        "# adding my own modification to decrease the learning rate further\n",
        "callback = LearningRateScheduler(scheduler)\n",
        "callback2 = LearningRateScheduler(scheduler2)\n",
        "model.compile(loss = \"categorical_crossentropy\", optimizer='adam', metrics=[\"accuracy\"])"
      ],
      "execution_count": 72,
      "outputs": []
    },
    {
      "cell_type": "markdown",
      "metadata": {
        "id": "fXVB-NSLzvh8",
        "colab_type": "text"
      },
      "source": [
        "Before training the model, we need to one-hot-encode the labels as our output consists of 10 units with probabilities of each class. \\\n",
        "Tensorflow offers a convinient function one_hot to encode the variables. \\\n",
        "We also need to rescale the inputs of trainX and testX, which will increase the model performance."
      ]
    },
    {
      "cell_type": "code",
      "metadata": {
        "id": "vzwnovFCzt9F",
        "colab_type": "code",
        "colab": {
          "base_uri": "https://localhost:8080/",
          "height": 34
        },
        "outputId": "e9fcc493-7ac0-4b6b-86bc-9d17f7933c9a"
      },
      "source": [
        "trainX_rescale = trainX / 255.\n",
        "testX_rescale = testX / 255.\n",
        "trainY_onehot = tf.one_hot(trainY, 10)\n",
        "testY_onehot = tf.one_hot(testY, 10)\n",
        "print(trainY_onehot.shape, testY_onehot.shape)"
      ],
      "execution_count": 73,
      "outputs": [
        {
          "output_type": "stream",
          "text": [
            "(60000, 10) (10000, 10)\n"
          ],
          "name": "stdout"
        }
      ]
    },
    {
      "cell_type": "markdown",
      "metadata": {
        "id": "4jM4zKsR1Jco",
        "colab_type": "text"
      },
      "source": [
        "Let's train the model now for 25 epochs. We will be using the testing data for validation.\n"
      ]
    },
    {
      "cell_type": "code",
      "metadata": {
        "id": "wNtSh8K41IS5",
        "colab_type": "code",
        "colab": {
          "base_uri": "https://localhost:8080/",
          "height": 887
        },
        "outputId": "5d6560c1-abba-4745-eb0e-4efa2ffffb0e"
      },
      "source": [
        "history = model.fit(trainX_rescale, trainY_onehot, epochs=25, validation_data=(testX_rescale, testY_onehot), verbose=1, callbacks=[callback])"
      ],
      "execution_count": 75,
      "outputs": [
        {
          "output_type": "stream",
          "text": [
            "Epoch 1/25\n",
            "1875/1875 [==============================] - 12s 6ms/step - loss: 0.0475 - accuracy: 0.9845 - val_loss: 0.0400 - val_accuracy: 0.9874 - lr: 5.0000e-04\n",
            "Epoch 2/25\n",
            "1875/1875 [==============================] - 12s 6ms/step - loss: 0.0427 - accuracy: 0.9857 - val_loss: 0.0416 - val_accuracy: 0.9869 - lr: 5.0000e-04\n",
            "Epoch 3/25\n",
            "1875/1875 [==============================] - 13s 7ms/step - loss: 0.0409 - accuracy: 0.9863 - val_loss: 0.0364 - val_accuracy: 0.9878 - lr: 5.0000e-04\n",
            "Epoch 4/25\n",
            "1875/1875 [==============================] - 13s 7ms/step - loss: 0.0268 - accuracy: 0.9906 - val_loss: 0.0323 - val_accuracy: 0.9898 - lr: 2.0000e-04\n",
            "Epoch 5/25\n",
            "1875/1875 [==============================] - 13s 7ms/step - loss: 0.0268 - accuracy: 0.9908 - val_loss: 0.0339 - val_accuracy: 0.9892 - lr: 2.0000e-04\n",
            "Epoch 6/25\n",
            "1875/1875 [==============================] - 13s 7ms/step - loss: 0.0248 - accuracy: 0.9916 - val_loss: 0.0354 - val_accuracy: 0.9887 - lr: 2.0000e-04\n",
            "Epoch 7/25\n",
            "1875/1875 [==============================] - 12s 6ms/step - loss: 0.0223 - accuracy: 0.9926 - val_loss: 0.0343 - val_accuracy: 0.9882 - lr: 1.0000e-04\n",
            "Epoch 8/25\n",
            "1875/1875 [==============================] - 12s 7ms/step - loss: 0.0202 - accuracy: 0.9934 - val_loss: 0.0354 - val_accuracy: 0.9885 - lr: 1.0000e-04\n",
            "Epoch 9/25\n",
            "1875/1875 [==============================] - 13s 7ms/step - loss: 0.0203 - accuracy: 0.9933 - val_loss: 0.0344 - val_accuracy: 0.9897 - lr: 1.0000e-04\n",
            "Epoch 10/25\n",
            "1875/1875 [==============================] - 15s 8ms/step - loss: 0.0175 - accuracy: 0.9943 - val_loss: 0.0331 - val_accuracy: 0.9896 - lr: 5.0000e-05\n",
            "Epoch 11/25\n",
            "1875/1875 [==============================] - 15s 8ms/step - loss: 0.0171 - accuracy: 0.9944 - val_loss: 0.0331 - val_accuracy: 0.9898 - lr: 5.0000e-05\n",
            "Epoch 12/25\n",
            "1875/1875 [==============================] - 14s 8ms/step - loss: 0.0168 - accuracy: 0.9946 - val_loss: 0.0343 - val_accuracy: 0.9894 - lr: 5.0000e-05\n",
            "Epoch 13/25\n",
            "1875/1875 [==============================] - 15s 8ms/step - loss: 0.0171 - accuracy: 0.9941 - val_loss: 0.0341 - val_accuracy: 0.9894 - lr: 5.0000e-05\n",
            "Epoch 14/25\n",
            "1875/1875 [==============================] - 15s 8ms/step - loss: 0.0155 - accuracy: 0.9948 - val_loss: 0.0338 - val_accuracy: 0.9897 - lr: 1.0000e-05\n",
            "Epoch 15/25\n",
            "1875/1875 [==============================] - 14s 7ms/step - loss: 0.0165 - accuracy: 0.9947 - val_loss: 0.0338 - val_accuracy: 0.9896 - lr: 1.0000e-05\n",
            "Epoch 16/25\n",
            "1875/1875 [==============================] - 15s 8ms/step - loss: 0.0146 - accuracy: 0.9954 - val_loss: 0.0339 - val_accuracy: 0.9899 - lr: 1.0000e-05\n",
            "Epoch 17/25\n",
            "1875/1875 [==============================] - 14s 8ms/step - loss: 0.0142 - accuracy: 0.9954 - val_loss: 0.0339 - val_accuracy: 0.9895 - lr: 1.0000e-05\n",
            "Epoch 18/25\n",
            "1875/1875 [==============================] - 13s 7ms/step - loss: 0.0151 - accuracy: 0.9949 - val_loss: 0.0335 - val_accuracy: 0.9898 - lr: 1.0000e-05\n",
            "Epoch 19/25\n",
            "1875/1875 [==============================] - 12s 7ms/step - loss: 0.0139 - accuracy: 0.9952 - val_loss: 0.0335 - val_accuracy: 0.9900 - lr: 1.0000e-05\n",
            "Epoch 20/25\n",
            "1875/1875 [==============================] - 12s 6ms/step - loss: 0.0138 - accuracy: 0.9949 - val_loss: 0.0344 - val_accuracy: 0.9897 - lr: 1.0000e-05\n",
            "Epoch 21/25\n",
            "1875/1875 [==============================] - 12s 6ms/step - loss: 0.0137 - accuracy: 0.9953 - val_loss: 0.0342 - val_accuracy: 0.9898 - lr: 1.0000e-05\n",
            "Epoch 22/25\n",
            "1875/1875 [==============================] - 12s 7ms/step - loss: 0.0138 - accuracy: 0.9956 - val_loss: 0.0343 - val_accuracy: 0.9897 - lr: 1.0000e-05\n",
            "Epoch 23/25\n",
            "1875/1875 [==============================] - 12s 6ms/step - loss: 0.0142 - accuracy: 0.9951 - val_loss: 0.0345 - val_accuracy: 0.9898 - lr: 1.0000e-05\n",
            "Epoch 24/25\n",
            "1875/1875 [==============================] - 12s 7ms/step - loss: 0.0147 - accuracy: 0.9951 - val_loss: 0.0349 - val_accuracy: 0.9896 - lr: 1.0000e-05\n",
            "Epoch 25/25\n",
            "1875/1875 [==============================] - 12s 7ms/step - loss: 0.0146 - accuracy: 0.9951 - val_loss: 0.0346 - val_accuracy: 0.9896 - lr: 1.0000e-05\n"
          ],
          "name": "stdout"
        }
      ]
    },
    {
      "cell_type": "markdown",
      "metadata": {
        "id": "0MU11Eed1vXO",
        "colab_type": "text"
      },
      "source": [
        "# Plotting the results\n",
        "Now we will plot the results of our training."
      ]
    },
    {
      "cell_type": "code",
      "metadata": {
        "id": "-XWQEUVD9pva",
        "colab_type": "code",
        "colab": {
          "base_uri": "https://localhost:8080/",
          "height": 621
        },
        "outputId": "e53b75cf-003b-4dd8-f972-39979c32f39b"
      },
      "source": [
        "plt.figure(figsize=(15,10))\n",
        "\n",
        "plt.subplot(211)\n",
        "plt.plot(history.history['accuracy'], '--', label='acc')\n",
        "plt.plot(history.history['val_accuracy'], '--',label='val_acc')\n",
        "plt.title('model accuracy')\n",
        "plt.ylabel('accuracy')\n",
        "plt.xlabel('epoch')\n",
        "plt.legend(loc='upper left')\n",
        "axes=plt.gca()\n",
        "axes.set_ylim([0.965, 1])\n",
        "\n",
        "plt.subplot(212)\n",
        "plt.plot(history.history['loss'], '--', label='loss')\n",
        "plt.plot(history.history['val_loss'], '--',label='val_loss')\n",
        "plt.title('model loss')\n",
        "plt.ylabel('loss')\n",
        "plt.xlabel('epoch')\n",
        "plt.legend(loc='upper left')\n",
        "axes=plt.gca()\n",
        "\n",
        "plt.show()\n",
        "\n",
        "\n"
      ],
      "execution_count": 76,
      "outputs": [
        {
          "output_type": "display_data",
          "data": {
            "image/png": "[encoded data removed]",
            "text/plain": [
              "<Figure size 1080x720 with 2 Axes>"
            ]
          },
          "metadata": {
            "tags": [],
            "needs_background": "light"
          }
        }
      ]
    },
    {
      "cell_type": "code",
      "metadata": {
        "id": "O9mYL1MpX_Nx",
        "colab_type": "code",
        "colab": {}
      },
      "source": [
        "# Saving the model\n",
        "model.save(\"trained_model.hdf5\")"
      ],
      "execution_count": 77,
      "outputs": []
    },
    {
      "cell_type": "markdown",
      "metadata": {
        "id": "4SZc7F-q_Ji2",
        "colab_type": "text"
      },
      "source": [
        "It is clear that the loss and accuracy stabilize after training for around 15 epochs. We can use early stopping to avoid overtraining the model.\n",
        "\n",
        "We achieved an error rate of 0.62% which on repeated iterations averages to 0.30% (Because of random variables) which is certainly better than the paper at 0.35%. The accuracy is 99.6% on the training set and 99% on the test set which is pretty good but certainly not the best, we can definitely improve the model by adding more layers, introducing batch normalization, tuning the hyper parameters, adding more data, etc. \n",
        "\n",
        "Let's try training the model again by increasing the dataset using data augmentation tools provided in keras. The model presented in the paper showed improvement in the test set result by increasing the data, let us see if we can replicate the same."
      ]
    },
    {
      "cell_type": "code",
      "metadata": {
        "id": "tmC8hqFu-GWz",
        "colab_type": "code",
        "colab": {
          "base_uri": "https://localhost:8080/",
          "height": 887
        },
        "outputId": "802a099d-2194-4a22-fa91-369387af5845"
      },
      "source": [
        "from tensorflow.keras.preprocessing.image import ImageDataGenerator\n",
        "train_datagen = ImageDataGenerator(\n",
        "      rescale=1./255,\n",
        "      width_shift_range=0.2,\n",
        "      height_shift_range=0.2,\n",
        "      shear_range = 20\n",
        "      )\n",
        "\n",
        "test_datagen = ImageDataGenerator(rescale=1./255)\n",
        "\n",
        "\n",
        "history = model.fit(train_datagen.flow(trainX, trainY_onehot, batch_size = 32), epochs=25, \n",
        "                    validation_data=test_datagen.flow(testX, testY_onehot), callbacks = [callback2], verbose=1)"
      ],
      "execution_count": 78,
      "outputs": [
        {
          "output_type": "stream",
          "text": [
            "Epoch 1/25\n",
            "1875/1875 [==============================] - 32s 17ms/step - loss: 0.4086 - accuracy: 0.8724 - val_loss: 0.0853 - val_accuracy: 0.9711 - lr: 0.0010\n",
            "Epoch 2/25\n",
            "1875/1875 [==============================] - 31s 17ms/step - loss: 0.2352 - accuracy: 0.9259 - val_loss: 0.0724 - val_accuracy: 0.9751 - lr: 0.0010\n",
            "Epoch 3/25\n",
            "1875/1875 [==============================] - 31s 17ms/step - loss: 0.2039 - accuracy: 0.9352 - val_loss: 0.0636 - val_accuracy: 0.9773 - lr: 0.0010\n",
            "Epoch 4/25\n",
            "1875/1875 [==============================] - 31s 17ms/step - loss: 0.1841 - accuracy: 0.9421 - val_loss: 0.0637 - val_accuracy: 0.9792 - lr: 0.0010\n",
            "Epoch 5/25\n",
            "1875/1875 [==============================] - 32s 17ms/step - loss: 0.1709 - accuracy: 0.9469 - val_loss: 0.0593 - val_accuracy: 0.9800 - lr: 0.0010\n",
            "Epoch 6/25\n",
            "1875/1875 [==============================] - 32s 17ms/step - loss: 0.1593 - accuracy: 0.9490 - val_loss: 0.0510 - val_accuracy: 0.9823 - lr: 0.0010\n",
            "Epoch 7/25\n",
            "1875/1875 [==============================] - 32s 17ms/step - loss: 0.1530 - accuracy: 0.9518 - val_loss: 0.0523 - val_accuracy: 0.9814 - lr: 0.0010\n",
            "Epoch 8/25\n",
            "1875/1875 [==============================] - 33s 17ms/step - loss: 0.1483 - accuracy: 0.9529 - val_loss: 0.0509 - val_accuracy: 0.9819 - lr: 0.0010\n",
            "Epoch 9/25\n",
            "1875/1875 [==============================] - 32s 17ms/step - loss: 0.1429 - accuracy: 0.9552 - val_loss: 0.0428 - val_accuracy: 0.9853 - lr: 0.0010\n",
            "Epoch 10/25\n",
            "1875/1875 [==============================] - 32s 17ms/step - loss: 0.1374 - accuracy: 0.9566 - val_loss: 0.0440 - val_accuracy: 0.9844 - lr: 0.0010\n",
            "Epoch 11/25\n",
            "1875/1875 [==============================] - 32s 17ms/step - loss: 0.1361 - accuracy: 0.9562 - val_loss: 0.0453 - val_accuracy: 0.9839 - lr: 0.0010\n",
            "Epoch 12/25\n",
            "1875/1875 [==============================] - 32s 17ms/step - loss: 0.1295 - accuracy: 0.9589 - val_loss: 0.0458 - val_accuracy: 0.9835 - lr: 9.0484e-04\n",
            "Epoch 13/25\n",
            "1875/1875 [==============================] - 33s 18ms/step - loss: 0.1205 - accuracy: 0.9619 - val_loss: 0.0473 - val_accuracy: 0.9842 - lr: 8.1873e-04\n",
            "Epoch 14/25\n",
            "1875/1875 [==============================] - 34s 18ms/step - loss: 0.1183 - accuracy: 0.9628 - val_loss: 0.0415 - val_accuracy: 0.9849 - lr: 7.4082e-04\n",
            "Epoch 15/25\n",
            "1875/1875 [==============================] - 37s 20ms/step - loss: 0.1106 - accuracy: 0.9653 - val_loss: 0.0417 - val_accuracy: 0.9847 - lr: 6.7032e-04\n",
            "Epoch 16/25\n",
            "1875/1875 [==============================] - 36s 19ms/step - loss: 0.1081 - accuracy: 0.9661 - val_loss: 0.0354 - val_accuracy: 0.9881 - lr: 6.0653e-04\n",
            "Epoch 17/25\n",
            "1875/1875 [==============================] - 35s 19ms/step - loss: 0.1026 - accuracy: 0.9675 - val_loss: 0.0369 - val_accuracy: 0.9871 - lr: 5.4881e-04\n",
            "Epoch 18/25\n",
            "1875/1875 [==============================] - 32s 17ms/step - loss: 0.0984 - accuracy: 0.9681 - val_loss: 0.0392 - val_accuracy: 0.9869 - lr: 4.9659e-04\n",
            "Epoch 19/25\n",
            "1875/1875 [==============================] - 31s 17ms/step - loss: 0.0962 - accuracy: 0.9694 - val_loss: 0.0308 - val_accuracy: 0.9894 - lr: 4.4933e-04\n",
            "Epoch 20/25\n",
            "1875/1875 [==============================] - 32s 17ms/step - loss: 0.0941 - accuracy: 0.9699 - val_loss: 0.0356 - val_accuracy: 0.9878 - lr: 4.0657e-04\n",
            "Epoch 21/25\n",
            "1875/1875 [==============================] - 32s 17ms/step - loss: 0.0903 - accuracy: 0.9710 - val_loss: 0.0321 - val_accuracy: 0.9882 - lr: 3.6788e-04\n",
            "Epoch 22/25\n",
            "1875/1875 [==============================] - 32s 17ms/step - loss: 0.0894 - accuracy: 0.9712 - val_loss: 0.0325 - val_accuracy: 0.9880 - lr: 3.3287e-04\n",
            "Epoch 23/25\n",
            "1875/1875 [==============================] - 31s 17ms/step - loss: 0.0885 - accuracy: 0.9721 - val_loss: 0.0313 - val_accuracy: 0.9884 - lr: 3.0119e-04\n",
            "Epoch 24/25\n",
            "1875/1875 [==============================] - 31s 16ms/step - loss: 0.0876 - accuracy: 0.9720 - val_loss: 0.0311 - val_accuracy: 0.9897 - lr: 2.7253e-04\n",
            "Epoch 25/25\n",
            "1875/1875 [==============================] - 30s 16ms/step - loss: 0.0844 - accuracy: 0.9732 - val_loss: 0.0306 - val_accuracy: 0.9890 - lr: 2.4660e-04\n"
          ],
          "name": "stdout"
        }
      ]
    },
    {
      "cell_type": "code",
      "metadata": {
        "id": "kzb_lDg9QhVy",
        "colab_type": "code",
        "colab": {
          "base_uri": "https://localhost:8080/",
          "height": 621
        },
        "outputId": "cb994b21-d3e9-42de-84ef-ab518c7627de"
      },
      "source": [
        "plt.figure(figsize=(15,10))\n",
        "\n",
        "plt.subplot(211)\n",
        "plt.plot(history.history['accuracy'], '--', label='acc')\n",
        "plt.plot(history.history['val_accuracy'], '--',label='val_acc')\n",
        "plt.title('model accuracy')\n",
        "plt.ylabel('accuracy')\n",
        "plt.xlabel('epoch')\n",
        "plt.legend(loc='upper left')\n",
        "axes=plt.gca()\n",
        "axes.set_ylim([0.965, 1])\n",
        "\n",
        "plt.subplot(212)\n",
        "plt.plot(history.history['loss'], '--', label='loss')\n",
        "plt.plot(history.history['val_loss'], '--',label='val_loss')\n",
        "plt.title('model loss')\n",
        "plt.ylabel('loss')\n",
        "plt.xlabel('epoch')\n",
        "plt.legend(loc='upper left')\n",
        "axes=plt.gca()\n",
        "\n",
        "plt.show()"
      ],
      "execution_count": 79,
      "outputs": [
        {
          "output_type": "display_data",
          "data": {
            "image/png": "[encoded data removed]",
            "text/plain": [
              "<Figure size 1080x720 with 2 Axes>"
            ]
          },
          "metadata": {
            "tags": [],
            "needs_background": "light"
          }
        }
      ]
    },
    {
      "cell_type": "markdown",
      "metadata": {
        "id": "yWjsZ2ENWmVP",
        "colab_type": "text"
      },
      "source": [
        "As you can see, If we use data augmentation, training accuracy suffers but the validation accuracy increases, hence the model generalizes better. Data Augmentation is a useful way to prevent overfitting of a model."
      ]
    },
    {
      "cell_type": "code",
      "metadata": {
        "id": "4XATxXHoeSxm",
        "colab_type": "code",
        "colab": {}
      },
      "source": [
        "# saving augmented model\n",
        "model.save(\"data_augmented_model.hdf5\")"
      ],
      "execution_count": 80,
      "outputs": []
    },
    {
      "cell_type": "code",
      "metadata": {
        "id": "QLNOFfzGUixI",
        "colab_type": "code",
        "colab": {}
      },
      "source": [
        ""
      ],
      "execution_count": null,
      "outputs": []
    }
  ]
}